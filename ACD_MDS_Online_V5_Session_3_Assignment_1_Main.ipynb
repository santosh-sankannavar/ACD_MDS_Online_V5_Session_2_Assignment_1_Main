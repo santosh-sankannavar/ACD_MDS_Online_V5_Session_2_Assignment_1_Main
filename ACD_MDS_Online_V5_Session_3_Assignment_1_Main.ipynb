{
 "cells": [
  {
   "cell_type": "code",
   "execution_count": 17,
   "metadata": {},
   "outputs": [
    {
     "data": {
      "text/plain": [
       "10"
      ]
     },
     "execution_count": 17,
     "metadata": {},
     "output_type": "execute_result"
    }
   ],
   "source": [
    "#1.1  Write a Python Program to implement your own myreduce() function which works exactly like Python's built-in function reduce()\n",
    "def my_reduce(func, seq):\n",
    "    value = seq[0]\n",
    "    for i in seq[1:]:\n",
    "        value = func(value, i)\n",
    "    return value\n",
    "\n",
    "def do_sum(x1, x2):\n",
    "    return x1 + x2\n",
    "\n",
    "my_reduce(do_sum, [1, 2, 3, 4])\n"
   ]
  },
  {
   "cell_type": "code",
   "execution_count": 18,
   "metadata": {},
   "outputs": [
    {
     "data": {
      "text/plain": [
       "[2, 4]"
      ]
     },
     "execution_count": 18,
     "metadata": {},
     "output_type": "execute_result"
    }
   ],
   "source": [
    "#1.2 Write a Python program to implement your own myfilter() function which works exactly like Python's built-in function filter() \n",
    "def my_filter(func, seq):\n",
    "    for i in seq:\n",
    "         if func(i):\n",
    "                yield i\n",
    "def is_even(x):\n",
    "     if x % 2 == 0:\n",
    "         return True\n",
    "     else:\n",
    "         return False\n",
    "\n",
    "a=my_filter(is_even, [1, 2, 3, 4])\n",
    "list(a)\n"
   ]
  },
  {
   "cell_type": "code",
   "execution_count": 14,
   "metadata": {},
   "outputs": [
    {
     "name": "stdout",
     "output_type": "stream",
     "text": [
      "['A', 'C', 'D', 'G', 'I', 'L', 'D']\n",
      "['x', 'xx', 'xxx', 'xxxx', 'y', 'yy', 'yyy', 'yyyy', 'z', 'zz', 'zzz', 'zzzz']\n",
      "['x', 'y', 'z', 'xx', 'yy', 'zz', 'xxx', 'yyy', 'zzz', 'xxxx', 'yyyy', 'zzzz']\n",
      "[[2], [3], [4], [3], [4], [5], [4], [5], [6]]\n",
      "[[2, 3, 4, 5], [3, 4, 5, 6], [4, 5, 6, 7], [5, 6, 7, 8]]\n",
      "[(1, 1), (1, 2), (1, 3), (2, 1), (2, 2), (2, 3), (3, 1), (3, 2), (3, 3)]\n"
     ]
    }
   ],
   "source": [
    "#2.  Implement List comprehensions to produce the following lists.  \n",
    "#Write List comprehensions to produce the following Lists \n",
    "str='Acdgild'\n",
    "result=[char.upper() for char in str]\n",
    "print(result)\n",
    "\n",
    "chars=['x','y','z']\n",
    "numbers=[1,2,3,4]\n",
    "chars_number =  [ (x*y) for x in chars for y in numbers ]\n",
    "print(chars_number)\n",
    "\n",
    "chars_numbers = [ (x*y) for x in numbers for y in chars ]\n",
    "print(chars_numbers)\n",
    "\n",
    "print([[i+n] for i in list(range(2,5)) for n in range(0,3)])\n",
    "print([[i+n for i in list(range(2,6))] for n in range(0,4)])\n",
    "print([(i,n) for i in [1,2,3] for n in range(1,4)])"
   ]
  },
  {
   "cell_type": "code",
   "execution_count": 15,
   "metadata": {},
   "outputs": [
    {
     "name": "stdout",
     "output_type": "stream",
     "text": [
      "Exercises\n"
     ]
    }
   ],
   "source": [
    "def find_longest_word(words_list):\n",
    "    word_len = []\n",
    "    for n in words_list:\n",
    "        word_len.append((len(n), n))\n",
    "    word_len.sort()\n",
    "    return word_len[-1][1]\n",
    "\n",
    "print(find_longest_word([\"PHP\", \"Exercises\", \"Backend\"]))\n"
   ]
  },
  {
   "cell_type": "code",
   "execution_count": null,
   "metadata": {},
   "outputs": [],
   "source": []
  }
 ],
 "metadata": {
  "kernelspec": {
   "display_name": "Python 3",
   "language": "python",
   "name": "python3"
  },
  "language_info": {
   "codemirror_mode": {
    "name": "ipython",
    "version": 3
   },
   "file_extension": ".py",
   "mimetype": "text/x-python",
   "name": "python",
   "nbconvert_exporter": "python",
   "pygments_lexer": "ipython3",
   "version": "3.7.0"
  }
 },
 "nbformat": 4,
 "nbformat_minor": 2
}
